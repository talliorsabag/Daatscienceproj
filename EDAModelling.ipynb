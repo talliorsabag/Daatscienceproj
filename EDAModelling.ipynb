{
  "cells": [
    {
      "cell_type": "markdown",
      "metadata": {
        "id": "vntyVobwMdyl"
      },
      "source": [
        "## Import Libraries"
      ]
    },
    {
      "cell_type": "code",
      "execution_count": 2,
      "metadata": {
        "id": "3QuiqcCXTC03"
      },
      "outputs": [
        {
          "name": "stdout",
          "output_type": "stream",
          "text": [
            "Collecting xgboost\n",
            "  Downloading xgboost-1.5.2-py3-none-win_amd64.whl (106.6 MB)\n",
            "Requirement already satisfied: scipy in c:\\programdata\\anaconda3\\lib\\site-packages (from xgboost) (1.5.2)\n",
            "Requirement already satisfied: numpy in c:\\programdata\\anaconda3\\lib\\site-packages (from xgboost) (1.19.2)\n",
            "Installing collected packages: xgboost\n",
            "Successfully installed xgboost-1.5.2\n"
          ]
        }
      ],
      "source": [
        "import pandas as pd\r\n",
        "import numpy as np\r\n",
        "\r\n",
        "from sklearn.preprocessing import LabelEncoder\r\n",
        "from sklearn.model_selection import train_test_split\r\n",
        "from sklearn.metrics import accuracy_score\r\n",
        "!pip install xgboost\r\n",
        "import xgboost as xgb\r\n",
        "\r\n",
        "import seaborn as sns\r\n",
        "import matplotlib.pyplot as plt"
      ]
    },
    {
      "cell_type": "code",
      "execution_count": 3,
      "metadata": {
        "id": "FS0qkp-_TGe_"
      },
      "outputs": [],
      "source": [
        "df = pd.read_csv('dataFinal.csv')"
      ]
    },
    {
      "cell_type": "code",
      "execution_count": null,
      "metadata": {
        "id": "nYR33ybTvWlv"
      },
      "outputs": [],
      "source": []
    },
    {
      "cell_type": "code",
      "execution_count": 4,
      "metadata": {
        "colab": {
          "base_uri": "https://localhost:8080/"
        },
        "id": "A1IaNsOZshp-",
        "outputId": "90c6459a-3673-4060-a2d8-2100b43822ed"
      },
      "outputs": [
        {
          "data": {
            "text/plain": [
              "(53242, 11)"
            ]
          },
          "execution_count": 4,
          "metadata": {},
          "output_type": "execute_result"
        }
      ],
      "source": [
        "df.shape"
      ]
    },
    {
      "cell_type": "code",
      "execution_count": 5,
      "metadata": {
        "colab": {
          "base_uri": "https://localhost:8080/",
          "height": 582
        },
        "id": "CwCNfXB7tNzb",
        "outputId": "80963d8c-6441-4953-be7e-4607709c8350"
      },
      "outputs": [
        {
          "data": {
            "text/html": [
              "<div>\n",
              "<style scoped>\n",
              "    .dataframe tbody tr th:only-of-type {\n",
              "        vertical-align: middle;\n",
              "    }\n",
              "\n",
              "    .dataframe tbody tr th {\n",
              "        vertical-align: top;\n",
              "    }\n",
              "\n",
              "    .dataframe thead th {\n",
              "        text-align: right;\n",
              "    }\n",
              "</style>\n",
              "<table border=\"1\" class=\"dataframe\">\n",
              "  <thead>\n",
              "    <tr style=\"text-align: right;\">\n",
              "      <th></th>\n",
              "      <th>Unnamed: 0</th>\n",
              "      <th>product_link</th>\n",
              "      <th>image_link</th>\n",
              "      <th>sponsered</th>\n",
              "      <th>title</th>\n",
              "      <th>offer_price</th>\n",
              "      <th>currency</th>\n",
              "      <th>rating</th>\n",
              "      <th>category</th>\n",
              "      <th>mrp</th>\n",
              "      <th>isBestSeller</th>\n",
              "    </tr>\n",
              "  </thead>\n",
              "  <tbody>\n",
              "    <tr>\n",
              "      <th>0</th>\n",
              "      <td>0</td>\n",
              "      <td>https://www.amazon.com/gp/slredirect/picassoRe...</td>\n",
              "      <td>https://m.media-amazon.com/images/I/61wsCKCU-v...</td>\n",
              "      <td>0</td>\n",
              "      <td>Bluetooth Speakerphone with 4 Mics &amp; Noise Can...</td>\n",
              "      <td>119.00</td>\n",
              "      <td>$</td>\n",
              "      <td>4.6 out of 5 stars</td>\n",
              "      <td>electronics</td>\n",
              "      <td>160.6</td>\n",
              "      <td>True</td>\n",
              "    </tr>\n",
              "    <tr>\n",
              "      <th>1</th>\n",
              "      <td>1</td>\n",
              "      <td>https://www.amazon.com/gp/slredirect/picassoRe...</td>\n",
              "      <td>https://m.media-amazon.com/images/I/715lrpvxXT...</td>\n",
              "      <td>0</td>\n",
              "      <td>Herdio 5.25 Inches 200 Watts Indoor Outdoor Pa...</td>\n",
              "      <td>115.99</td>\n",
              "      <td>$</td>\n",
              "      <td>4.4 out of 5 stars</td>\n",
              "      <td>misc</td>\n",
              "      <td>156.5</td>\n",
              "      <td>False</td>\n",
              "    </tr>\n",
              "    <tr>\n",
              "      <th>2</th>\n",
              "      <td>2</td>\n",
              "      <td>https://www.amazon.com/gp/slredirect/picassoRe...</td>\n",
              "      <td>https://m.media-amazon.com/images/I/71z614nKXa...</td>\n",
              "      <td>0</td>\n",
              "      <td>MIATONE 60W Portable Bluetooth Speaker with Ti...</td>\n",
              "      <td>99.99</td>\n",
              "      <td>$</td>\n",
              "      <td>4.2 out of 5 stars</td>\n",
              "      <td>electronics</td>\n",
              "      <td>129.9</td>\n",
              "      <td>False</td>\n",
              "    </tr>\n",
              "    <tr>\n",
              "      <th>3</th>\n",
              "      <td>3</td>\n",
              "      <td>https://www.amazon.com/Edison-Professional-Arm...</td>\n",
              "      <td>https://m.media-amazon.com/images/I/61F6I80gFy...</td>\n",
              "      <td>0</td>\n",
              "      <td>Edison Professional - Portable IPX7 Bluetooth ...</td>\n",
              "      <td>29.99</td>\n",
              "      <td>$</td>\n",
              "      <td>4.8 out of 5 stars</td>\n",
              "      <td>electronics</td>\n",
              "      <td>35.9</td>\n",
              "      <td>False</td>\n",
              "    </tr>\n",
              "    <tr>\n",
              "      <th>4</th>\n",
              "      <td>4</td>\n",
              "      <td>https://www.amazon.com/Bluetooth-Yatide-Resist...</td>\n",
              "      <td>https://m.media-amazon.com/images/I/81ZAXCCd6H...</td>\n",
              "      <td>0</td>\n",
              "      <td>Portable Bluetooth Speakers, Yatide Wireless S...</td>\n",
              "      <td>32.99</td>\n",
              "      <td>$</td>\n",
              "      <td>4.4 out of 5 stars</td>\n",
              "      <td>electronics</td>\n",
              "      <td>39.5</td>\n",
              "      <td>False</td>\n",
              "    </tr>\n",
              "  </tbody>\n",
              "</table>\n",
              "</div>"
            ],
            "text/plain": [
              "   Unnamed: 0                                       product_link  \\\n",
              "0           0  https://www.amazon.com/gp/slredirect/picassoRe...   \n",
              "1           1  https://www.amazon.com/gp/slredirect/picassoRe...   \n",
              "2           2  https://www.amazon.com/gp/slredirect/picassoRe...   \n",
              "3           3  https://www.amazon.com/Edison-Professional-Arm...   \n",
              "4           4  https://www.amazon.com/Bluetooth-Yatide-Resist...   \n",
              "\n",
              "                                          image_link  sponsered  \\\n",
              "0  https://m.media-amazon.com/images/I/61wsCKCU-v...          0   \n",
              "1  https://m.media-amazon.com/images/I/715lrpvxXT...          0   \n",
              "2  https://m.media-amazon.com/images/I/71z614nKXa...          0   \n",
              "3  https://m.media-amazon.com/images/I/61F6I80gFy...          0   \n",
              "4  https://m.media-amazon.com/images/I/81ZAXCCd6H...          0   \n",
              "\n",
              "                                               title  offer_price currency  \\\n",
              "0  Bluetooth Speakerphone with 4 Mics & Noise Can...       119.00        $   \n",
              "1  Herdio 5.25 Inches 200 Watts Indoor Outdoor Pa...       115.99        $   \n",
              "2  MIATONE 60W Portable Bluetooth Speaker with Ti...        99.99        $   \n",
              "3  Edison Professional - Portable IPX7 Bluetooth ...        29.99        $   \n",
              "4  Portable Bluetooth Speakers, Yatide Wireless S...        32.99        $   \n",
              "\n",
              "               rating     category    mrp  isBestSeller  \n",
              "0  4.6 out of 5 stars  electronics  160.6          True  \n",
              "1  4.4 out of 5 stars         misc  156.5         False  \n",
              "2  4.2 out of 5 stars  electronics  129.9         False  \n",
              "3  4.8 out of 5 stars  electronics   35.9         False  \n",
              "4  4.4 out of 5 stars  electronics   39.5         False  "
            ]
          },
          "execution_count": 5,
          "metadata": {},
          "output_type": "execute_result"
        }
      ],
      "source": [
        "df.head()"
      ]
    },
    {
      "cell_type": "markdown",
      "metadata": {
        "id": "jXW-ZW1gM9Nl"
      },
      "source": [
        "## Preprocessing"
      ]
    },
    {
      "cell_type": "code",
      "execution_count": 6,
      "metadata": {
        "id": "8EqZ74vjT6P6"
      },
      "outputs": [],
      "source": [
        "# New DataFrame with relevant columns\n",
        "new_df = df.drop(['Unnamed: 0', 'product_link', 'image_link', 'sponsered', 'title', 'currency'], axis=1)"
      ]
    },
    {
      "cell_type": "code",
      "execution_count": 7,
      "metadata": {
        "colab": {
          "base_uri": "https://localhost:8080/",
          "height": 206
        },
        "id": "2HKAASo4Ua8N",
        "outputId": "7ac4080a-6f4b-4f7b-b54d-fef8fab69235"
      },
      "outputs": [
        {
          "data": {
            "text/html": [
              "<div>\n",
              "<style scoped>\n",
              "    .dataframe tbody tr th:only-of-type {\n",
              "        vertical-align: middle;\n",
              "    }\n",
              "\n",
              "    .dataframe tbody tr th {\n",
              "        vertical-align: top;\n",
              "    }\n",
              "\n",
              "    .dataframe thead th {\n",
              "        text-align: right;\n",
              "    }\n",
              "</style>\n",
              "<table border=\"1\" class=\"dataframe\">\n",
              "  <thead>\n",
              "    <tr style=\"text-align: right;\">\n",
              "      <th></th>\n",
              "      <th>offer_price</th>\n",
              "      <th>rating</th>\n",
              "      <th>category</th>\n",
              "      <th>mrp</th>\n",
              "      <th>isBestSeller</th>\n",
              "    </tr>\n",
              "  </thead>\n",
              "  <tbody>\n",
              "    <tr>\n",
              "      <th>0</th>\n",
              "      <td>119.00</td>\n",
              "      <td>4.6 out of 5 stars</td>\n",
              "      <td>electronics</td>\n",
              "      <td>160.6</td>\n",
              "      <td>True</td>\n",
              "    </tr>\n",
              "    <tr>\n",
              "      <th>1</th>\n",
              "      <td>115.99</td>\n",
              "      <td>4.4 out of 5 stars</td>\n",
              "      <td>misc</td>\n",
              "      <td>156.5</td>\n",
              "      <td>False</td>\n",
              "    </tr>\n",
              "    <tr>\n",
              "      <th>2</th>\n",
              "      <td>99.99</td>\n",
              "      <td>4.2 out of 5 stars</td>\n",
              "      <td>electronics</td>\n",
              "      <td>129.9</td>\n",
              "      <td>False</td>\n",
              "    </tr>\n",
              "    <tr>\n",
              "      <th>3</th>\n",
              "      <td>29.99</td>\n",
              "      <td>4.8 out of 5 stars</td>\n",
              "      <td>electronics</td>\n",
              "      <td>35.9</td>\n",
              "      <td>False</td>\n",
              "    </tr>\n",
              "    <tr>\n",
              "      <th>4</th>\n",
              "      <td>32.99</td>\n",
              "      <td>4.4 out of 5 stars</td>\n",
              "      <td>electronics</td>\n",
              "      <td>39.5</td>\n",
              "      <td>False</td>\n",
              "    </tr>\n",
              "  </tbody>\n",
              "</table>\n",
              "</div>"
            ],
            "text/plain": [
              "   offer_price              rating     category    mrp  isBestSeller\n",
              "0       119.00  4.6 out of 5 stars  electronics  160.6          True\n",
              "1       115.99  4.4 out of 5 stars         misc  156.5         False\n",
              "2        99.99  4.2 out of 5 stars  electronics  129.9         False\n",
              "3        29.99  4.8 out of 5 stars  electronics   35.9         False\n",
              "4        32.99  4.4 out of 5 stars  electronics   39.5         False"
            ]
          },
          "execution_count": 7,
          "metadata": {},
          "output_type": "execute_result"
        }
      ],
      "source": [
        "new_df.head()"
      ]
    },
    {
      "cell_type": "code",
      "execution_count": 8,
      "metadata": {
        "colab": {
          "base_uri": "https://localhost:8080/"
        },
        "id": "8BK3SjM5Ucny",
        "outputId": "c345710a-fc95-4162-bf6c-09565251536d"
      },
      "outputs": [
        {
          "name": "stdout",
          "output_type": "stream",
          "text": [
            "<class 'pandas.core.frame.DataFrame'>\n",
            "RangeIndex: 53242 entries, 0 to 53241\n",
            "Data columns (total 5 columns):\n",
            " #   Column        Non-Null Count  Dtype  \n",
            "---  ------        --------------  -----  \n",
            " 0   offer_price   53242 non-null  float64\n",
            " 1   rating        53242 non-null  object \n",
            " 2   category      53242 non-null  object \n",
            " 3   mrp           53242 non-null  float64\n",
            " 4   isBestSeller  53242 non-null  bool   \n",
            "dtypes: bool(1), float64(2), object(2)\n",
            "memory usage: 1.7+ MB\n"
          ]
        }
      ],
      "source": [
        "# Missing Value\n",
        "new_df.info()"
      ]
    },
    {
      "cell_type": "markdown",
      "metadata": {
        "id": "_gb66h3MM04B"
      },
      "source": [
        "There are no missing values in the dataset"
      ]
    },
    {
      "cell_type": "code",
      "execution_count": 9,
      "metadata": {
        "id": "8lMNjnwmcdCv"
      },
      "outputs": [],
      "source": [
        "new_df['rating'] = new_df['rating'].apply(lambda x: x[:3])"
      ]
    },
    {
      "cell_type": "code",
      "execution_count": 10,
      "metadata": {
        "id": "QPyYbLREdGnO"
      },
      "outputs": [],
      "source": [
        "new_df['rating'] = new_df['rating'].astype(float)"
      ]
    },
    {
      "cell_type": "code",
      "execution_count": 11,
      "metadata": {
        "colab": {
          "base_uri": "https://localhost:8080/",
          "height": 206
        },
        "id": "358kHDvIc67-",
        "outputId": "576136bf-0d0a-480e-a9c7-384b842dfa1f"
      },
      "outputs": [
        {
          "data": {
            "text/html": [
              "<div>\n",
              "<style scoped>\n",
              "    .dataframe tbody tr th:only-of-type {\n",
              "        vertical-align: middle;\n",
              "    }\n",
              "\n",
              "    .dataframe tbody tr th {\n",
              "        vertical-align: top;\n",
              "    }\n",
              "\n",
              "    .dataframe thead th {\n",
              "        text-align: right;\n",
              "    }\n",
              "</style>\n",
              "<table border=\"1\" class=\"dataframe\">\n",
              "  <thead>\n",
              "    <tr style=\"text-align: right;\">\n",
              "      <th></th>\n",
              "      <th>offer_price</th>\n",
              "      <th>rating</th>\n",
              "      <th>category</th>\n",
              "      <th>mrp</th>\n",
              "      <th>isBestSeller</th>\n",
              "    </tr>\n",
              "  </thead>\n",
              "  <tbody>\n",
              "    <tr>\n",
              "      <th>0</th>\n",
              "      <td>119.00</td>\n",
              "      <td>4.6</td>\n",
              "      <td>electronics</td>\n",
              "      <td>160.6</td>\n",
              "      <td>True</td>\n",
              "    </tr>\n",
              "    <tr>\n",
              "      <th>1</th>\n",
              "      <td>115.99</td>\n",
              "      <td>4.4</td>\n",
              "      <td>misc</td>\n",
              "      <td>156.5</td>\n",
              "      <td>False</td>\n",
              "    </tr>\n",
              "    <tr>\n",
              "      <th>2</th>\n",
              "      <td>99.99</td>\n",
              "      <td>4.2</td>\n",
              "      <td>electronics</td>\n",
              "      <td>129.9</td>\n",
              "      <td>False</td>\n",
              "    </tr>\n",
              "    <tr>\n",
              "      <th>3</th>\n",
              "      <td>29.99</td>\n",
              "      <td>4.8</td>\n",
              "      <td>electronics</td>\n",
              "      <td>35.9</td>\n",
              "      <td>False</td>\n",
              "    </tr>\n",
              "    <tr>\n",
              "      <th>4</th>\n",
              "      <td>32.99</td>\n",
              "      <td>4.4</td>\n",
              "      <td>electronics</td>\n",
              "      <td>39.5</td>\n",
              "      <td>False</td>\n",
              "    </tr>\n",
              "  </tbody>\n",
              "</table>\n",
              "</div>"
            ],
            "text/plain": [
              "   offer_price  rating     category    mrp  isBestSeller\n",
              "0       119.00     4.6  electronics  160.6          True\n",
              "1       115.99     4.4         misc  156.5         False\n",
              "2        99.99     4.2  electronics  129.9         False\n",
              "3        29.99     4.8  electronics   35.9         False\n",
              "4        32.99     4.4  electronics   39.5         False"
            ]
          },
          "execution_count": 11,
          "metadata": {},
          "output_type": "execute_result"
        }
      ],
      "source": [
        "new_df.head()"
      ]
    },
    {
      "cell_type": "code",
      "execution_count": 12,
      "metadata": {
        "id": "wS6iHoWMdn7-"
      },
      "outputs": [],
      "source": [
        "# One hot encoding category variable\n",
        "ohe = pd.get_dummies(new_df['category'])"
      ]
    },
    {
      "cell_type": "code",
      "execution_count": 13,
      "metadata": {
        "colab": {
          "base_uri": "https://localhost:8080/",
          "height": 206
        },
        "id": "PLc-KqtaeL6x",
        "outputId": "faea11db-568c-4134-9c9d-ecfa0172ca97"
      },
      "outputs": [
        {
          "data": {
            "text/html": [
              "<div>\n",
              "<style scoped>\n",
              "    .dataframe tbody tr th:only-of-type {\n",
              "        vertical-align: middle;\n",
              "    }\n",
              "\n",
              "    .dataframe tbody tr th {\n",
              "        vertical-align: top;\n",
              "    }\n",
              "\n",
              "    .dataframe thead th {\n",
              "        text-align: right;\n",
              "    }\n",
              "</style>\n",
              "<table border=\"1\" class=\"dataframe\">\n",
              "  <thead>\n",
              "    <tr style=\"text-align: right;\">\n",
              "      <th></th>\n",
              "      <th>accessories</th>\n",
              "      <th>clothing</th>\n",
              "      <th>electronics</th>\n",
              "      <th>misc</th>\n",
              "      <th>musical_instrument</th>\n",
              "    </tr>\n",
              "  </thead>\n",
              "  <tbody>\n",
              "    <tr>\n",
              "      <th>0</th>\n",
              "      <td>0</td>\n",
              "      <td>0</td>\n",
              "      <td>1</td>\n",
              "      <td>0</td>\n",
              "      <td>0</td>\n",
              "    </tr>\n",
              "    <tr>\n",
              "      <th>1</th>\n",
              "      <td>0</td>\n",
              "      <td>0</td>\n",
              "      <td>0</td>\n",
              "      <td>1</td>\n",
              "      <td>0</td>\n",
              "    </tr>\n",
              "    <tr>\n",
              "      <th>2</th>\n",
              "      <td>0</td>\n",
              "      <td>0</td>\n",
              "      <td>1</td>\n",
              "      <td>0</td>\n",
              "      <td>0</td>\n",
              "    </tr>\n",
              "    <tr>\n",
              "      <th>3</th>\n",
              "      <td>0</td>\n",
              "      <td>0</td>\n",
              "      <td>1</td>\n",
              "      <td>0</td>\n",
              "      <td>0</td>\n",
              "    </tr>\n",
              "    <tr>\n",
              "      <th>4</th>\n",
              "      <td>0</td>\n",
              "      <td>0</td>\n",
              "      <td>1</td>\n",
              "      <td>0</td>\n",
              "      <td>0</td>\n",
              "    </tr>\n",
              "  </tbody>\n",
              "</table>\n",
              "</div>"
            ],
            "text/plain": [
              "   accessories  clothing  electronics  misc  musical_instrument\n",
              "0            0         0            1     0                   0\n",
              "1            0         0            0     1                   0\n",
              "2            0         0            1     0                   0\n",
              "3            0         0            1     0                   0\n",
              "4            0         0            1     0                   0"
            ]
          },
          "execution_count": 13,
          "metadata": {},
          "output_type": "execute_result"
        }
      ],
      "source": [
        "ohe.head()"
      ]
    },
    {
      "cell_type": "code",
      "execution_count": 14,
      "metadata": {
        "id": "uqVMv4tReMWV"
      },
      "outputs": [],
      "source": [
        "new_df.drop(['category'], axis=1, inplace=True)"
      ]
    },
    {
      "cell_type": "code",
      "execution_count": 15,
      "metadata": {
        "id": "pV0kSFm6efwI"
      },
      "outputs": [],
      "source": [
        "new_df = new_df.join(ohe)"
      ]
    },
    {
      "cell_type": "code",
      "execution_count": 16,
      "metadata": {
        "colab": {
          "base_uri": "https://localhost:8080/",
          "height": 206
        },
        "id": "nUa3zdN5esEC",
        "outputId": "533bab29-b83c-4439-b8b2-95329e5c23e6"
      },
      "outputs": [
        {
          "data": {
            "text/html": [
              "<div>\n",
              "<style scoped>\n",
              "    .dataframe tbody tr th:only-of-type {\n",
              "        vertical-align: middle;\n",
              "    }\n",
              "\n",
              "    .dataframe tbody tr th {\n",
              "        vertical-align: top;\n",
              "    }\n",
              "\n",
              "    .dataframe thead th {\n",
              "        text-align: right;\n",
              "    }\n",
              "</style>\n",
              "<table border=\"1\" class=\"dataframe\">\n",
              "  <thead>\n",
              "    <tr style=\"text-align: right;\">\n",
              "      <th></th>\n",
              "      <th>offer_price</th>\n",
              "      <th>rating</th>\n",
              "      <th>mrp</th>\n",
              "      <th>isBestSeller</th>\n",
              "      <th>accessories</th>\n",
              "      <th>clothing</th>\n",
              "      <th>electronics</th>\n",
              "      <th>misc</th>\n",
              "      <th>musical_instrument</th>\n",
              "    </tr>\n",
              "  </thead>\n",
              "  <tbody>\n",
              "    <tr>\n",
              "      <th>0</th>\n",
              "      <td>119.00</td>\n",
              "      <td>4.6</td>\n",
              "      <td>160.6</td>\n",
              "      <td>True</td>\n",
              "      <td>0</td>\n",
              "      <td>0</td>\n",
              "      <td>1</td>\n",
              "      <td>0</td>\n",
              "      <td>0</td>\n",
              "    </tr>\n",
              "    <tr>\n",
              "      <th>1</th>\n",
              "      <td>115.99</td>\n",
              "      <td>4.4</td>\n",
              "      <td>156.5</td>\n",
              "      <td>False</td>\n",
              "      <td>0</td>\n",
              "      <td>0</td>\n",
              "      <td>0</td>\n",
              "      <td>1</td>\n",
              "      <td>0</td>\n",
              "    </tr>\n",
              "    <tr>\n",
              "      <th>2</th>\n",
              "      <td>99.99</td>\n",
              "      <td>4.2</td>\n",
              "      <td>129.9</td>\n",
              "      <td>False</td>\n",
              "      <td>0</td>\n",
              "      <td>0</td>\n",
              "      <td>1</td>\n",
              "      <td>0</td>\n",
              "      <td>0</td>\n",
              "    </tr>\n",
              "    <tr>\n",
              "      <th>3</th>\n",
              "      <td>29.99</td>\n",
              "      <td>4.8</td>\n",
              "      <td>35.9</td>\n",
              "      <td>False</td>\n",
              "      <td>0</td>\n",
              "      <td>0</td>\n",
              "      <td>1</td>\n",
              "      <td>0</td>\n",
              "      <td>0</td>\n",
              "    </tr>\n",
              "    <tr>\n",
              "      <th>4</th>\n",
              "      <td>32.99</td>\n",
              "      <td>4.4</td>\n",
              "      <td>39.5</td>\n",
              "      <td>False</td>\n",
              "      <td>0</td>\n",
              "      <td>0</td>\n",
              "      <td>1</td>\n",
              "      <td>0</td>\n",
              "      <td>0</td>\n",
              "    </tr>\n",
              "  </tbody>\n",
              "</table>\n",
              "</div>"
            ],
            "text/plain": [
              "   offer_price  rating    mrp  isBestSeller  accessories  clothing  \\\n",
              "0       119.00     4.6  160.6          True            0         0   \n",
              "1       115.99     4.4  156.5         False            0         0   \n",
              "2        99.99     4.2  129.9         False            0         0   \n",
              "3        29.99     4.8   35.9         False            0         0   \n",
              "4        32.99     4.4   39.5         False            0         0   \n",
              "\n",
              "   electronics  misc  musical_instrument  \n",
              "0            1     0                   0  \n",
              "1            0     1                   0  \n",
              "2            1     0                   0  \n",
              "3            1     0                   0  \n",
              "4            1     0                   0  "
            ]
          },
          "execution_count": 16,
          "metadata": {},
          "output_type": "execute_result"
        }
      ],
      "source": [
        "new_df.head()"
      ]
    },
    {
      "cell_type": "code",
      "execution_count": 17,
      "metadata": {
        "id": "jV7nkhNWetno"
      },
      "outputs": [],
      "source": [
        "# Label encoding best sellers\n",
        "le = LabelEncoder()"
      ]
    },
    {
      "cell_type": "code",
      "execution_count": 18,
      "metadata": {
        "id": "hb7OlsmTfRo4"
      },
      "outputs": [],
      "source": [
        "new_df['isBestSeller'] = le.fit_transform(new_df['isBestSeller'])"
      ]
    },
    {
      "cell_type": "code",
      "execution_count": 19,
      "metadata": {
        "colab": {
          "base_uri": "https://localhost:8080/"
        },
        "id": "PsmLiBv0fcgj",
        "outputId": "cb95ea7c-6266-42a1-80e7-730d5a52fa29"
      },
      "outputs": [
        {
          "data": {
            "text/plain": [
              "0    50103\n",
              "1     3139\n",
              "Name: isBestSeller, dtype: int64"
            ]
          },
          "execution_count": 19,
          "metadata": {},
          "output_type": "execute_result"
        }
      ],
      "source": [
        "new_df.isBestSeller.value_counts()"
      ]
    },
    {
      "cell_type": "code",
      "execution_count": 21,
      "metadata": {
        "id": "BhXk1ljm7kgO"
      },
      "outputs": [],
      "source": [
        "new_df.to_csv('new_df.csv', index=False)"
      ]
    },
    {
      "cell_type": "markdown",
      "metadata": {
        "id": "o9szWOIaOit_"
      },
      "source": [
        "## Splitting"
      ]
    },
    {
      "cell_type": "code",
      "execution_count": 22,
      "metadata": {
        "id": "pPiyEPc5Nxan"
      },
      "outputs": [],
      "source": [
        "X_train, X_test, y_train, y_test = train_test_split(new_df.drop(['isBestSeller'], axis=1), new_df['isBestSeller'], test_size=.2, stratify=new_df['isBestSeller'])"
      ]
    },
    {
      "cell_type": "code",
      "execution_count": 23,
      "metadata": {
        "colab": {
          "base_uri": "https://localhost:8080/"
        },
        "id": "scyrl_Mq6E67",
        "outputId": "7508f8a5-29a5-4236-cfc9-c8221b19941b"
      },
      "outputs": [
        {
          "data": {
            "text/plain": [
              "(42593, 8)"
            ]
          },
          "execution_count": 23,
          "metadata": {},
          "output_type": "execute_result"
        }
      ],
      "source": [
        "X_train.shape"
      ]
    },
    {
      "cell_type": "markdown",
      "metadata": {
        "id": "fznapPJq6A_a"
      },
      "source": [
        "## XGBoost"
      ]
    },
    {
      "cell_type": "code",
      "execution_count": 24,
      "metadata": {
        "id": "hLMacYg7fsJ1"
      },
      "outputs": [],
      "source": [
        "model = xgb.XGBClassifier()"
      ]
    },
    {
      "cell_type": "code",
      "execution_count": 25,
      "metadata": {
        "colab": {
          "base_uri": "https://localhost:8080/"
        },
        "id": "E9QXapPt6X59",
        "outputId": "3dc9520b-6f3e-4f97-fdee-1c3a35499648"
      },
      "outputs": [
        {
          "name": "stderr",
          "output_type": "stream",
          "text": [
            "C:\\ProgramData\\Anaconda3\\lib\\site-packages\\xgboost\\sklearn.py:1224: UserWarning: The use of label encoder in XGBClassifier is deprecated and will be removed in a future release. To remove this warning, do the following: 1) Pass option use_label_encoder=False when constructing XGBClassifier object; and 2) Encode your labels (y) as integers starting with 0, i.e. 0, 1, 2, ..., [num_class - 1].\n",
            "  warnings.warn(label_encoder_deprecation_msg, UserWarning)\n"
          ]
        },
        {
          "name": "stdout",
          "output_type": "stream",
          "text": [
            "[20:39:55] WARNING: C:/Users/Administrator/workspace/xgboost-win64_release_1.5.1/src/learner.cc:1115: Starting in XGBoost 1.3.0, the default evaluation metric used with the objective 'binary:logistic' was changed from 'error' to 'logloss'. Explicitly set eval_metric if you'd like to restore the old behavior.\n"
          ]
        },
        {
          "data": {
            "text/plain": [
              "XGBClassifier(base_score=0.5, booster='gbtree', colsample_bylevel=1,\n",
              "              colsample_bynode=1, colsample_bytree=1, enable_categorical=False,\n",
              "              gamma=0, gpu_id=-1, importance_type=None,\n",
              "              interaction_constraints='', learning_rate=0.300000012,\n",
              "              max_delta_step=0, max_depth=6, min_child_weight=1, missing=nan,\n",
              "              monotone_constraints='()', n_estimators=100, n_jobs=8,\n",
              "              num_parallel_tree=1, predictor='auto', random_state=0,\n",
              "              reg_alpha=0, reg_lambda=1, scale_pos_weight=1, subsample=1,\n",
              "              tree_method='exact', validate_parameters=1, verbosity=None)"
            ]
          },
          "execution_count": 25,
          "metadata": {},
          "output_type": "execute_result"
        }
      ],
      "source": [
        "model.fit(X_train, y_train)"
      ]
    },
    {
      "cell_type": "markdown",
      "metadata": {
        "id": "ytiX-kQG6nJQ"
      },
      "source": [
        "## Testing"
      ]
    },
    {
      "cell_type": "code",
      "execution_count": 26,
      "metadata": {
        "colab": {
          "base_uri": "https://localhost:8080/",
          "height": 206
        },
        "id": "wYJRnnuS6jaJ",
        "outputId": "0e970c3e-bca8-4154-f2ad-fa1428ba1d32"
      },
      "outputs": [
        {
          "data": {
            "text/html": [
              "<div>\n",
              "<style scoped>\n",
              "    .dataframe tbody tr th:only-of-type {\n",
              "        vertical-align: middle;\n",
              "    }\n",
              "\n",
              "    .dataframe tbody tr th {\n",
              "        vertical-align: top;\n",
              "    }\n",
              "\n",
              "    .dataframe thead th {\n",
              "        text-align: right;\n",
              "    }\n",
              "</style>\n",
              "<table border=\"1\" class=\"dataframe\">\n",
              "  <thead>\n",
              "    <tr style=\"text-align: right;\">\n",
              "      <th></th>\n",
              "      <th>offer_price</th>\n",
              "      <th>rating</th>\n",
              "      <th>mrp</th>\n",
              "      <th>accessories</th>\n",
              "      <th>clothing</th>\n",
              "      <th>electronics</th>\n",
              "      <th>misc</th>\n",
              "      <th>musical_instrument</th>\n",
              "    </tr>\n",
              "  </thead>\n",
              "  <tbody>\n",
              "    <tr>\n",
              "      <th>23334</th>\n",
              "      <td>29.00</td>\n",
              "      <td>4.3</td>\n",
              "      <td>34.8</td>\n",
              "      <td>0</td>\n",
              "      <td>0</td>\n",
              "      <td>0</td>\n",
              "      <td>0</td>\n",
              "      <td>1</td>\n",
              "    </tr>\n",
              "    <tr>\n",
              "      <th>33454</th>\n",
              "      <td>29.00</td>\n",
              "      <td>4.3</td>\n",
              "      <td>34.8</td>\n",
              "      <td>0</td>\n",
              "      <td>0</td>\n",
              "      <td>1</td>\n",
              "      <td>0</td>\n",
              "      <td>0</td>\n",
              "    </tr>\n",
              "    <tr>\n",
              "      <th>5533</th>\n",
              "      <td>29.00</td>\n",
              "      <td>4.3</td>\n",
              "      <td>34.8</td>\n",
              "      <td>0</td>\n",
              "      <td>0</td>\n",
              "      <td>1</td>\n",
              "      <td>0</td>\n",
              "      <td>0</td>\n",
              "    </tr>\n",
              "    <tr>\n",
              "      <th>11670</th>\n",
              "      <td>29.00</td>\n",
              "      <td>4.3</td>\n",
              "      <td>34.8</td>\n",
              "      <td>0</td>\n",
              "      <td>0</td>\n",
              "      <td>0</td>\n",
              "      <td>1</td>\n",
              "      <td>0</td>\n",
              "    </tr>\n",
              "    <tr>\n",
              "      <th>18743</th>\n",
              "      <td>34.99</td>\n",
              "      <td>4.0</td>\n",
              "      <td>41.9</td>\n",
              "      <td>0</td>\n",
              "      <td>0</td>\n",
              "      <td>1</td>\n",
              "      <td>0</td>\n",
              "      <td>0</td>\n",
              "    </tr>\n",
              "  </tbody>\n",
              "</table>\n",
              "</div>"
            ],
            "text/plain": [
              "       offer_price  rating   mrp  accessories  clothing  electronics  misc  \\\n",
              "23334        29.00     4.3  34.8            0         0            0     0   \n",
              "33454        29.00     4.3  34.8            0         0            1     0   \n",
              "5533         29.00     4.3  34.8            0         0            1     0   \n",
              "11670        29.00     4.3  34.8            0         0            0     1   \n",
              "18743        34.99     4.0  41.9            0         0            1     0   \n",
              "\n",
              "       musical_instrument  \n",
              "23334                   1  \n",
              "33454                   0  \n",
              "5533                    0  \n",
              "11670                   0  \n",
              "18743                   0  "
            ]
          },
          "execution_count": 26,
          "metadata": {},
          "output_type": "execute_result"
        }
      ],
      "source": [
        "X_test.head()"
      ]
    },
    {
      "cell_type": "code",
      "execution_count": 27,
      "metadata": {
        "id": "c7bO-kI38SEn"
      },
      "outputs": [],
      "source": [
        "y_pred = model.predict(X_test)"
      ]
    },
    {
      "cell_type": "code",
      "execution_count": 28,
      "metadata": {
        "id": "FCj7PR_A8Vnq"
      },
      "outputs": [],
      "source": [
        "acc = accuracy_score(y_pred, y_test)"
      ]
    },
    {
      "cell_type": "code",
      "execution_count": 29,
      "metadata": {
        "colab": {
          "base_uri": "https://localhost:8080/"
        },
        "id": "mplU-N1GOu-V",
        "outputId": "cd6f9a55-85d2-4b91-c75f-aa9cee6c20b8"
      },
      "outputs": [
        {
          "data": {
            "text/plain": [
              "1.0"
            ]
          },
          "execution_count": 29,
          "metadata": {},
          "output_type": "execute_result"
        }
      ],
      "source": [
        "acc"
      ]
    },
    {
      "cell_type": "markdown",
      "metadata": {
        "id": "79xMITHnBOwb"
      },
      "source": [
        "## Category-Sales Analysis"
      ]
    },
    {
      "cell_type": "code",
      "execution_count": 30,
      "metadata": {
        "colab": {
          "base_uri": "https://localhost:8080/",
          "height": 206
        },
        "id": "tS2wVyLt8kfQ",
        "outputId": "070e08ec-76ef-488d-8f2a-84f4c13b0597"
      },
      "outputs": [
        {
          "data": {
            "text/html": [
              "<div>\n",
              "<style scoped>\n",
              "    .dataframe tbody tr th:only-of-type {\n",
              "        vertical-align: middle;\n",
              "    }\n",
              "\n",
              "    .dataframe tbody tr th {\n",
              "        vertical-align: top;\n",
              "    }\n",
              "\n",
              "    .dataframe thead th {\n",
              "        text-align: right;\n",
              "    }\n",
              "</style>\n",
              "<table border=\"1\" class=\"dataframe\">\n",
              "  <thead>\n",
              "    <tr style=\"text-align: right;\">\n",
              "      <th></th>\n",
              "      <th>offer_price</th>\n",
              "      <th>rating</th>\n",
              "      <th>mrp</th>\n",
              "      <th>isBestSeller</th>\n",
              "      <th>accessories</th>\n",
              "      <th>clothing</th>\n",
              "      <th>electronics</th>\n",
              "      <th>misc</th>\n",
              "      <th>musical_instrument</th>\n",
              "    </tr>\n",
              "  </thead>\n",
              "  <tbody>\n",
              "    <tr>\n",
              "      <th>0</th>\n",
              "      <td>119.00</td>\n",
              "      <td>4.6</td>\n",
              "      <td>160.6</td>\n",
              "      <td>1</td>\n",
              "      <td>0</td>\n",
              "      <td>0</td>\n",
              "      <td>1</td>\n",
              "      <td>0</td>\n",
              "      <td>0</td>\n",
              "    </tr>\n",
              "    <tr>\n",
              "      <th>1</th>\n",
              "      <td>115.99</td>\n",
              "      <td>4.4</td>\n",
              "      <td>156.5</td>\n",
              "      <td>0</td>\n",
              "      <td>0</td>\n",
              "      <td>0</td>\n",
              "      <td>0</td>\n",
              "      <td>1</td>\n",
              "      <td>0</td>\n",
              "    </tr>\n",
              "    <tr>\n",
              "      <th>2</th>\n",
              "      <td>99.99</td>\n",
              "      <td>4.2</td>\n",
              "      <td>129.9</td>\n",
              "      <td>0</td>\n",
              "      <td>0</td>\n",
              "      <td>0</td>\n",
              "      <td>1</td>\n",
              "      <td>0</td>\n",
              "      <td>0</td>\n",
              "    </tr>\n",
              "    <tr>\n",
              "      <th>3</th>\n",
              "      <td>29.99</td>\n",
              "      <td>4.8</td>\n",
              "      <td>35.9</td>\n",
              "      <td>0</td>\n",
              "      <td>0</td>\n",
              "      <td>0</td>\n",
              "      <td>1</td>\n",
              "      <td>0</td>\n",
              "      <td>0</td>\n",
              "    </tr>\n",
              "    <tr>\n",
              "      <th>4</th>\n",
              "      <td>32.99</td>\n",
              "      <td>4.4</td>\n",
              "      <td>39.5</td>\n",
              "      <td>0</td>\n",
              "      <td>0</td>\n",
              "      <td>0</td>\n",
              "      <td>1</td>\n",
              "      <td>0</td>\n",
              "      <td>0</td>\n",
              "    </tr>\n",
              "  </tbody>\n",
              "</table>\n",
              "</div>"
            ],
            "text/plain": [
              "   offer_price  rating    mrp  isBestSeller  accessories  clothing  \\\n",
              "0       119.00     4.6  160.6             1            0         0   \n",
              "1       115.99     4.4  156.5             0            0         0   \n",
              "2        99.99     4.2  129.9             0            0         0   \n",
              "3        29.99     4.8   35.9             0            0         0   \n",
              "4        32.99     4.4   39.5             0            0         0   \n",
              "\n",
              "   electronics  misc  musical_instrument  \n",
              "0            1     0                   0  \n",
              "1            0     1                   0  \n",
              "2            1     0                   0  \n",
              "3            1     0                   0  \n",
              "4            1     0                   0  "
            ]
          },
          "execution_count": 30,
          "metadata": {},
          "output_type": "execute_result"
        }
      ],
      "source": [
        "new_df.head()"
      ]
    },
    {
      "cell_type": "code",
      "execution_count": 31,
      "metadata": {
        "colab": {
          "base_uri": "https://localhost:8080/",
          "height": 389
        },
        "id": "vxq_Urb6BTLE",
        "outputId": "c316aedd-03dd-4aac-8980-26a29706c583"
      },
      "outputs": [
        {
          "data": {
            "text/html": [
              "<div>\n",
              "<style scoped>\n",
              "    .dataframe tbody tr th:only-of-type {\n",
              "        vertical-align: middle;\n",
              "    }\n",
              "\n",
              "    .dataframe tbody tr th {\n",
              "        vertical-align: top;\n",
              "    }\n",
              "\n",
              "    .dataframe thead th {\n",
              "        text-align: right;\n",
              "    }\n",
              "</style>\n",
              "<table border=\"1\" class=\"dataframe\">\n",
              "  <thead>\n",
              "    <tr style=\"text-align: right;\">\n",
              "      <th></th>\n",
              "      <th>Unnamed: 0</th>\n",
              "      <th>product_link</th>\n",
              "      <th>image_link</th>\n",
              "      <th>sponsered</th>\n",
              "      <th>title</th>\n",
              "      <th>offer_price</th>\n",
              "      <th>currency</th>\n",
              "      <th>rating</th>\n",
              "      <th>category</th>\n",
              "      <th>mrp</th>\n",
              "      <th>isBestSeller</th>\n",
              "    </tr>\n",
              "  </thead>\n",
              "  <tbody>\n",
              "    <tr>\n",
              "      <th>0</th>\n",
              "      <td>0</td>\n",
              "      <td>https://www.amazon.com/gp/slredirect/picassoRe...</td>\n",
              "      <td>https://m.media-amazon.com/images/I/61wsCKCU-v...</td>\n",
              "      <td>0</td>\n",
              "      <td>Bluetooth Speakerphone with 4 Mics &amp; Noise Can...</td>\n",
              "      <td>119.00</td>\n",
              "      <td>$</td>\n",
              "      <td>4.6 out of 5 stars</td>\n",
              "      <td>electronics</td>\n",
              "      <td>160.6</td>\n",
              "      <td>True</td>\n",
              "    </tr>\n",
              "    <tr>\n",
              "      <th>1</th>\n",
              "      <td>1</td>\n",
              "      <td>https://www.amazon.com/gp/slredirect/picassoRe...</td>\n",
              "      <td>https://m.media-amazon.com/images/I/715lrpvxXT...</td>\n",
              "      <td>0</td>\n",
              "      <td>Herdio 5.25 Inches 200 Watts Indoor Outdoor Pa...</td>\n",
              "      <td>115.99</td>\n",
              "      <td>$</td>\n",
              "      <td>4.4 out of 5 stars</td>\n",
              "      <td>misc</td>\n",
              "      <td>156.5</td>\n",
              "      <td>False</td>\n",
              "    </tr>\n",
              "    <tr>\n",
              "      <th>2</th>\n",
              "      <td>2</td>\n",
              "      <td>https://www.amazon.com/gp/slredirect/picassoRe...</td>\n",
              "      <td>https://m.media-amazon.com/images/I/71z614nKXa...</td>\n",
              "      <td>0</td>\n",
              "      <td>MIATONE 60W Portable Bluetooth Speaker with Ti...</td>\n",
              "      <td>99.99</td>\n",
              "      <td>$</td>\n",
              "      <td>4.2 out of 5 stars</td>\n",
              "      <td>electronics</td>\n",
              "      <td>129.9</td>\n",
              "      <td>False</td>\n",
              "    </tr>\n",
              "    <tr>\n",
              "      <th>3</th>\n",
              "      <td>3</td>\n",
              "      <td>https://www.amazon.com/Edison-Professional-Arm...</td>\n",
              "      <td>https://m.media-amazon.com/images/I/61F6I80gFy...</td>\n",
              "      <td>0</td>\n",
              "      <td>Edison Professional - Portable IPX7 Bluetooth ...</td>\n",
              "      <td>29.99</td>\n",
              "      <td>$</td>\n",
              "      <td>4.8 out of 5 stars</td>\n",
              "      <td>electronics</td>\n",
              "      <td>35.9</td>\n",
              "      <td>False</td>\n",
              "    </tr>\n",
              "    <tr>\n",
              "      <th>4</th>\n",
              "      <td>4</td>\n",
              "      <td>https://www.amazon.com/Bluetooth-Yatide-Resist...</td>\n",
              "      <td>https://m.media-amazon.com/images/I/81ZAXCCd6H...</td>\n",
              "      <td>0</td>\n",
              "      <td>Portable Bluetooth Speakers, Yatide Wireless S...</td>\n",
              "      <td>32.99</td>\n",
              "      <td>$</td>\n",
              "      <td>4.4 out of 5 stars</td>\n",
              "      <td>electronics</td>\n",
              "      <td>39.5</td>\n",
              "      <td>False</td>\n",
              "    </tr>\n",
              "  </tbody>\n",
              "</table>\n",
              "</div>"
            ],
            "text/plain": [
              "   Unnamed: 0                                       product_link  \\\n",
              "0           0  https://www.amazon.com/gp/slredirect/picassoRe...   \n",
              "1           1  https://www.amazon.com/gp/slredirect/picassoRe...   \n",
              "2           2  https://www.amazon.com/gp/slredirect/picassoRe...   \n",
              "3           3  https://www.amazon.com/Edison-Professional-Arm...   \n",
              "4           4  https://www.amazon.com/Bluetooth-Yatide-Resist...   \n",
              "\n",
              "                                          image_link  sponsered  \\\n",
              "0  https://m.media-amazon.com/images/I/61wsCKCU-v...          0   \n",
              "1  https://m.media-amazon.com/images/I/715lrpvxXT...          0   \n",
              "2  https://m.media-amazon.com/images/I/71z614nKXa...          0   \n",
              "3  https://m.media-amazon.com/images/I/61F6I80gFy...          0   \n",
              "4  https://m.media-amazon.com/images/I/81ZAXCCd6H...          0   \n",
              "\n",
              "                                               title  offer_price currency  \\\n",
              "0  Bluetooth Speakerphone with 4 Mics & Noise Can...       119.00        $   \n",
              "1  Herdio 5.25 Inches 200 Watts Indoor Outdoor Pa...       115.99        $   \n",
              "2  MIATONE 60W Portable Bluetooth Speaker with Ti...        99.99        $   \n",
              "3  Edison Professional - Portable IPX7 Bluetooth ...        29.99        $   \n",
              "4  Portable Bluetooth Speakers, Yatide Wireless S...        32.99        $   \n",
              "\n",
              "               rating     category    mrp  isBestSeller  \n",
              "0  4.6 out of 5 stars  electronics  160.6          True  \n",
              "1  4.4 out of 5 stars         misc  156.5         False  \n",
              "2  4.2 out of 5 stars  electronics  129.9         False  \n",
              "3  4.8 out of 5 stars  electronics   35.9         False  \n",
              "4  4.4 out of 5 stars  electronics   39.5         False  "
            ]
          },
          "execution_count": 31,
          "metadata": {},
          "output_type": "execute_result"
        }
      ],
      "source": [
        "# Original DataSet\n",
        "df.head()"
      ]
    },
    {
      "cell_type": "code",
      "execution_count": 32,
      "metadata": {
        "id": "mGsVwFwqCTDP"
      },
      "outputs": [],
      "source": [
        "new_df['category'] = df['category']"
      ]
    },
    {
      "cell_type": "code",
      "execution_count": 33,
      "metadata": {
        "colab": {
          "base_uri": "https://localhost:8080/",
          "height": 206
        },
        "id": "oRiyIw84CXmU",
        "outputId": "23b3f623-26cf-441b-8335-164cb28bfd49"
      },
      "outputs": [
        {
          "data": {
            "text/html": [
              "<div>\n",
              "<style scoped>\n",
              "    .dataframe tbody tr th:only-of-type {\n",
              "        vertical-align: middle;\n",
              "    }\n",
              "\n",
              "    .dataframe tbody tr th {\n",
              "        vertical-align: top;\n",
              "    }\n",
              "\n",
              "    .dataframe thead th {\n",
              "        text-align: right;\n",
              "    }\n",
              "</style>\n",
              "<table border=\"1\" class=\"dataframe\">\n",
              "  <thead>\n",
              "    <tr style=\"text-align: right;\">\n",
              "      <th></th>\n",
              "      <th>offer_price</th>\n",
              "      <th>rating</th>\n",
              "      <th>mrp</th>\n",
              "      <th>isBestSeller</th>\n",
              "      <th>accessories</th>\n",
              "      <th>clothing</th>\n",
              "      <th>electronics</th>\n",
              "      <th>misc</th>\n",
              "      <th>musical_instrument</th>\n",
              "      <th>category</th>\n",
              "    </tr>\n",
              "  </thead>\n",
              "  <tbody>\n",
              "    <tr>\n",
              "      <th>0</th>\n",
              "      <td>119.00</td>\n",
              "      <td>4.6</td>\n",
              "      <td>160.6</td>\n",
              "      <td>1</td>\n",
              "      <td>0</td>\n",
              "      <td>0</td>\n",
              "      <td>1</td>\n",
              "      <td>0</td>\n",
              "      <td>0</td>\n",
              "      <td>electronics</td>\n",
              "    </tr>\n",
              "    <tr>\n",
              "      <th>1</th>\n",
              "      <td>115.99</td>\n",
              "      <td>4.4</td>\n",
              "      <td>156.5</td>\n",
              "      <td>0</td>\n",
              "      <td>0</td>\n",
              "      <td>0</td>\n",
              "      <td>0</td>\n",
              "      <td>1</td>\n",
              "      <td>0</td>\n",
              "      <td>misc</td>\n",
              "    </tr>\n",
              "    <tr>\n",
              "      <th>2</th>\n",
              "      <td>99.99</td>\n",
              "      <td>4.2</td>\n",
              "      <td>129.9</td>\n",
              "      <td>0</td>\n",
              "      <td>0</td>\n",
              "      <td>0</td>\n",
              "      <td>1</td>\n",
              "      <td>0</td>\n",
              "      <td>0</td>\n",
              "      <td>electronics</td>\n",
              "    </tr>\n",
              "    <tr>\n",
              "      <th>3</th>\n",
              "      <td>29.99</td>\n",
              "      <td>4.8</td>\n",
              "      <td>35.9</td>\n",
              "      <td>0</td>\n",
              "      <td>0</td>\n",
              "      <td>0</td>\n",
              "      <td>1</td>\n",
              "      <td>0</td>\n",
              "      <td>0</td>\n",
              "      <td>electronics</td>\n",
              "    </tr>\n",
              "    <tr>\n",
              "      <th>4</th>\n",
              "      <td>32.99</td>\n",
              "      <td>4.4</td>\n",
              "      <td>39.5</td>\n",
              "      <td>0</td>\n",
              "      <td>0</td>\n",
              "      <td>0</td>\n",
              "      <td>1</td>\n",
              "      <td>0</td>\n",
              "      <td>0</td>\n",
              "      <td>electronics</td>\n",
              "    </tr>\n",
              "  </tbody>\n",
              "</table>\n",
              "</div>"
            ],
            "text/plain": [
              "   offer_price  rating    mrp  isBestSeller  accessories  clothing  \\\n",
              "0       119.00     4.6  160.6             1            0         0   \n",
              "1       115.99     4.4  156.5             0            0         0   \n",
              "2        99.99     4.2  129.9             0            0         0   \n",
              "3        29.99     4.8   35.9             0            0         0   \n",
              "4        32.99     4.4   39.5             0            0         0   \n",
              "\n",
              "   electronics  misc  musical_instrument     category  \n",
              "0            1     0                   0  electronics  \n",
              "1            0     1                   0         misc  \n",
              "2            1     0                   0  electronics  \n",
              "3            1     0                   0  electronics  \n",
              "4            1     0                   0  electronics  "
            ]
          },
          "execution_count": 33,
          "metadata": {},
          "output_type": "execute_result"
        }
      ],
      "source": [
        "new_df.head()"
      ]
    },
    {
      "cell_type": "code",
      "execution_count": 34,
      "metadata": {
        "colab": {
          "base_uri": "https://localhost:8080/",
          "height": 587
        },
        "id": "5haPyxhkIgHW",
        "outputId": "98000682-caf1-4afc-fc1b-5facf90042bb"
      },
      "outputs": [
        {
          "data": {
            "image/png": "[encoded data removed]",
            "text/plain": [
              "<Figure size 576x576 with 1 Axes>"
            ]
          },
          "metadata": {
            "needs_background": "light"
          },
          "output_type": "display_data"
        }
      ],
      "source": [
        "data = new_df[\"category\"].value_counts()\n",
        "data.plot(x='category',\n",
        "        kind='bar',\n",
        "        stacked=False,\n",
        "        title='Items Sold in Each Category',\n",
        "        figsize=(8,8))\n",
        "plt.show()"
      ]
    },
    {
      "cell_type": "markdown",
      "metadata": {
        "id": "nwHZ-R1TQMxb"
      },
      "source": [
        "Electronic items have the most sales followed by musical intruments. Clothing items have the least sales. \n",
        "\n",
        "Clothing needs cutomization which is not possible in online shopping. Hence, low sales.  "
      ]
    },
    {
      "cell_type": "code",
      "execution_count": 35,
      "metadata": {
        "colab": {
          "base_uri": "https://localhost:8080/",
          "height": 711
        },
        "id": "XpL8AAOeBXXq",
        "outputId": "a55ec193-81fe-4f5c-afe2-62d77c693e66"
      },
      "outputs": [
        {
          "data": {
            "image/png": "[encoded data removed]",
            "text/plain": [
              "<Figure size 576x720 with 1 Axes>"
            ]
          },
          "metadata": {
            "needs_background": "light"
          },
          "output_type": "display_data"
        }
      ],
      "source": [
        "fig = plt.figure(figsize=(8,10))\n",
        "\n",
        "ax1 = new_df.groupby('category')['rating'].mean().sort_values().plot(kind=\"bar\",)\n",
        "ax1.set_title(\"Average Rating of Each Category\", fontsize=14, fontweight = 'bold')\n",
        "ax1.set_xlabel(\"Categories\", fontsize = 10)\n",
        "ax1.set_ylabel(\"Rating\")\n",
        "\n",
        "plt.tight_layout(pad=2)\n",
        "plt.show()"
      ]
    },
    {
      "cell_type": "markdown",
      "metadata": {
        "id": "oC9kZJQGQvLf"
      },
      "source": [
        "Average ratings for all categories is over 4 out of 5. This shows the quality of goods is good "
      ]
    },
    {
      "cell_type": "code",
      "execution_count": 36,
      "metadata": {
        "colab": {
          "base_uri": "https://localhost:8080/",
          "height": 711
        },
        "id": "Kg2qRHhKEeh_",
        "outputId": "96d255ca-d453-4e28-edac-ccedbe705f97"
      },
      "outputs": [
        {
          "data": {
            "image/png": "[encoded data removed]",
            "text/plain": [
              "<Figure size 576x720 with 1 Axes>"
            ]
          },
          "metadata": {
            "needs_background": "light"
          },
          "output_type": "display_data"
        }
      ],
      "source": [
        "fig = plt.figure(figsize=(8,10))\n",
        "\n",
        "ax1 = new_df.groupby('category')['isBestSeller'].sum().sort_values().plot(kind=\"bar\",)\n",
        "ax1.set_title(\"Number of Best Sellers in Each Category\", fontsize=14, fontweight = 'bold')\n",
        "ax1.set_xlabel(\"Categories\", fontsize = 10)\n",
        "ax1.set_ylabel(\"Count\")\n",
        "\n",
        "plt.tight_layout(pad=2)\n",
        "plt.show()"
      ]
    },
    {
      "cell_type": "markdown",
      "metadata": {
        "id": "6yZ-IHViRJcx"
      },
      "source": [
        "Number of best sellers and number of items sold follow the same distribution.\n",
        "\n",
        "\n"
      ]
    },
    {
      "cell_type": "code",
      "execution_count": 37,
      "metadata": {
        "colab": {
          "base_uri": "https://localhost:8080/",
          "height": 601
        },
        "id": "XZxnQtwlFon9",
        "outputId": "17cd1194-a8c3-4c64-b5ad-bf5737df79f3"
      },
      "outputs": [
        {
          "data": {
            "image/png": "[encoded data removed]",
            "text/plain": [
              "<Figure size 864x576 with 1 Axes>"
            ]
          },
          "metadata": {
            "needs_background": "light"
          },
          "output_type": "display_data"
        }
      ],
      "source": [
        "data = new_df.groupby(\"category\")[['offer_price', 'mrp']].mean().reset_index().sort_values(by = 'offer_price', ascending = False)\n",
        "data.plot(x='category',\n",
        "        kind='bar',\n",
        "        stacked=False,\n",
        "        title='Offer Price vs MRP in Each Category',\n",
        "        figsize=(12,8))\n",
        "plt.show()"
      ]
    },
    {
      "cell_type": "markdown",
      "metadata": {
        "id": "g8cKYs95RjA-"
      },
      "source": [
        "Maximum discount is on clothing items but they have the least number of sales. Discounts are not affecting the sales. "
      ]
    },
    {
      "cell_type": "markdown",
      "metadata": {
        "id": "FXsLR1J0PT6R"
      },
      "source": [
        "## Correlation b/w Price and Amount of Sales"
      ]
    },
    {
      "cell_type": "code",
      "execution_count": 38,
      "metadata": {
        "colab": {
          "base_uri": "https://localhost:8080/",
          "height": 282
        },
        "id": "xx-eRBYaJs1q",
        "outputId": "29dc474b-4eca-47e5-bce1-b6099ee7c8f7"
      },
      "outputs": [
        {
          "data": {
            "text/plain": [
              "<AxesSubplot:ylabel='Frequency'>"
            ]
          },
          "execution_count": 38,
          "metadata": {},
          "output_type": "execute_result"
        },
        {
          "data": {
            "image/png": "[encoded data removed]",
            "text/plain": [
              "<Figure size 432x288 with 1 Axes>"
            ]
          },
          "metadata": {
            "needs_background": "light"
          },
          "output_type": "display_data"
        }
      ],
      "source": [
        "new_df.offer_price.plot(kind='hist')"
      ]
    },
    {
      "cell_type": "code",
      "execution_count": 39,
      "metadata": {
        "colab": {
          "base_uri": "https://localhost:8080/",
          "height": 282
        },
        "id": "xOsiq4mvPtaK",
        "outputId": "cf9581d6-ce33-412b-911f-e9d6a2bcdded"
      },
      "outputs": [
        {
          "data": {
            "text/plain": [
              "<AxesSubplot:ylabel='Frequency'>"
            ]
          },
          "execution_count": 39,
          "metadata": {},
          "output_type": "execute_result"
        },
        {
          "data": {
            "image/png": "[encoded data removed]",
            "text/plain": [
              "<Figure size 432x288 with 1 Axes>"
            ]
          },
          "metadata": {
            "needs_background": "light"
          },
          "output_type": "display_data"
        }
      ],
      "source": [
        "new_df.mrp.plot(kind='hist')"
      ]
    },
    {
      "cell_type": "markdown",
      "metadata": {
        "id": "h7bD3UL1PgO_"
      },
      "source": [
        "The above histograms shows the affect of price on the sales. Items with the lowest MRP and offer price have maximum sales. "
      ]
    },
    {
      "cell_type": "code",
      "execution_count": null,
      "metadata": {
        "id": "B9ON7zx9P_pd"
      },
      "outputs": [],
      "source": []
    },
    {
      "cell_type": "code",
      "execution_count": null,
      "metadata": {},
      "outputs": [],
      "source": []
    }
  ],
  "metadata": {
    "colab": {
      "name": "Untitled0.ipynb",
      "provenance": []
    },
    "interpreter": {
      "hash": "2be5faf79681da6f2a61fdfdd5405d65d042280f7fba6178067603e3a2925119"
    },
    "kernelspec": {
      "display_name": "Python 3.10.1 64-bit",
      "name": "python3"
    },
    "language_info": {
      "codemirror_mode": {
        "name": "ipython",
        "version": 3
      },
      "file_extension": ".py",
      "mimetype": "text/x-python",
      "name": "python",
      "nbconvert_exporter": "python",
      "pygments_lexer": "ipython3",
      "version": "3.8.5"
    }
  },
  "nbformat": 4,
  "nbformat_minor": 0
}