{
 "cells": [
  {
   "cell_type": "code",
   "execution_count": 5,
   "metadata": {},
   "outputs": [],
   "source": [
    "import pandas as pd\r\n",
    "import numpy as np\r\n",
    "import requests\r\n",
    "from bs4 import BeautifulSoup\r\n",
    "import json, csv\r\n",
    "from time import sleep\r\n",
    "import time"
   ]
  },
  {
   "cell_type": "code",
   "execution_count": 6,
   "metadata": {},
   "outputs": [
    {
     "name": "stdout",
     "output_type": "stream",
     "text": [
      "Unnamed: 0                                                     80\n",
      "product_link    https://www.amazon.com/Bluetooth-Speakers-Subw...\n",
      "image_link      https://m.media-amazon.com/images/I/71PT6EDOTu...\n",
      "sponsered                                                       0\n",
      "title           Bluetooth Speakers,Home Audio Sound Bars with ...\n",
      "offer_price                                                 17.99\n",
      "currency                                                        $\n",
      "rating                                         4.0 out of 5 stars\n",
      "category                                              electronics\n",
      "mrp                                                          25.1\n",
      "isBestSeller                                                False\n",
      "Name: 80, dtype: object\n"
     ]
    },
    {
     "ename": "KeyboardInterrupt",
     "evalue": "",
     "output_type": "error",
     "traceback": [
      "\u001b[1;31m---------------------------------------------------------------------------\u001b[0m",
      "\u001b[1;31mKeyboardInterrupt\u001b[0m                         Traceback (most recent call last)",
      "\u001b[1;32m<ipython-input-6-727c77d10395>\u001b[0m in \u001b[0;36m<module>\u001b[1;34m\u001b[0m\n\u001b[0;32m     42\u001b[0m     \u001b[1;32mfor\u001b[0m \u001b[0mindex\u001b[0m\u001b[1;33m,\u001b[0m \u001b[0mrows\u001b[0m \u001b[1;32min\u001b[0m \u001b[0mdata\u001b[0m\u001b[1;33m.\u001b[0m\u001b[0miterrows\u001b[0m\u001b[1;33m(\u001b[0m\u001b[1;33m)\u001b[0m\u001b[1;33m:\u001b[0m\u001b[1;33m\u001b[0m\u001b[1;33m\u001b[0m\u001b[0m\n\u001b[0;32m     43\u001b[0m         \u001b[0mprint\u001b[0m\u001b[1;33m(\u001b[0m\u001b[0mrows\u001b[0m\u001b[1;33m)\u001b[0m\u001b[1;33m\u001b[0m\u001b[1;33m\u001b[0m\u001b[0m\n\u001b[1;32m---> 44\u001b[1;33m         \u001b[0msleep\u001b[0m\u001b[1;33m(\u001b[0m\u001b[1;36m4\u001b[0m\u001b[1;33m)\u001b[0m\u001b[1;33m\u001b[0m\u001b[1;33m\u001b[0m\u001b[0m\n\u001b[0m\u001b[0;32m     45\u001b[0m     \u001b[1;32mpass\u001b[0m\u001b[1;33m\u001b[0m\u001b[1;33m\u001b[0m\u001b[0m\n",
      "\u001b[1;31mKeyboardInterrupt\u001b[0m: "
     ]
    }
   ],
   "source": [
    "\r\n",
    "link = \"https://www.amazon.com/\"\r\n",
    "resp = requests.get(link)\r\n",
    "buffer = int(time.time() % 100)\r\n",
    "if (resp.status_code == 200):\r\n",
    "\r\n",
    "    def scrape(url):  \r\n",
    "\r\n",
    "        headers = {\r\n",
    "            'dnt': '1',\r\n",
    "            'upgrade-insecure-requests': '1',\r\n",
    "            'user-agent': 'Mozilla/5.0 (Macintosh; Intel Mac OS X 10_15_4) AppleWebKit/537.36 (KHTML, like Gecko) Chrome/83.0.4103.61 Safari/537.36',\r\n",
    "            'accept': 'text/html,application/xhtml+xml,application/xml;q=0.9,image/webp,image/apng,*/*;q=0.8,application/signed-exchange;v=b3;q=0.9',\r\n",
    "            'sec-fetch-site': 'same-origin',\r\n",
    "            'sec-fetch-mode': 'navigate',\r\n",
    "            'sec-fetch-user': '?1',\r\n",
    "            'sec-fetch-dest': 'document',\r\n",
    "            'referer': 'https://www.amazon.com/',\r\n",
    "            'accept-language': 'en-GB,en-US;q=0.9,en;q=0.8',\r\n",
    "        }\r\n",
    "        print(\"Downloading %s\"%url)\r\n",
    "        r = requests.get(url, headers=headers)\r\n",
    "        if r.status_code > 500:\r\n",
    "            if \"To discuss automated access to Amazon data please contact\" in r.text:\r\n",
    "                print(\"Page %s was blocked by Amazon. Please try using better proxies\\n\"%url)\r\n",
    "            else:\r\n",
    "                print(\"Page %s must have been blocked by Amazon as the status code was %d\"%(url,r.status_code))\r\n",
    "            return None\r\n",
    "        return e.extract(r.text)\r\n",
    "\r\n",
    "    # product_data = []\r\n",
    "    with open(\"urls.txt\",'r') as urllist, open('output.jsonl','w') as outfile:\r\n",
    "        for url in urllist.read().splitlines():\r\n",
    "            data = scrape(url) \r\n",
    "            if data:\r\n",
    "                json.dump(data,outfile)\r\n",
    "                outfile.write(\"\\n\")\r\n",
    "                sleep(5)   \r\n",
    "else:\r\n",
    "    link = \"dataFinal.csv\"\r\n",
    "    data = pd.read_csv(link)\r\n",
    "    data = data[buffer:]\r\n",
    "    for index, rows in data.iterrows():\r\n",
    "        print(rows)\r\n",
    "        sleep(4)\r\n",
    "    pass"
   ]
  },
  {
   "cell_type": "code",
   "execution_count": null,
   "metadata": {},
   "outputs": [],
   "source": []
  },
  {
   "cell_type": "code",
   "execution_count": null,
   "metadata": {},
   "outputs": [],
   "source": []
  }
 ],
 "metadata": {
  "interpreter": {
   "hash": "b3ba2566441a7c06988d0923437866b63cedc61552a5af99d1f4fb67d367b25f"
  },
  "kernelspec": {
   "display_name": "Python 3.8.5 64-bit ('ProgramData': virtualenv)",
   "name": "python3"
  },
  "language_info": {
   "codemirror_mode": {
    "name": "ipython",
    "version": 3
   },
   "file_extension": ".py",
   "mimetype": "text/x-python",
   "name": "python",
   "nbconvert_exporter": "python",
   "pygments_lexer": "ipython3",
   "version": "3.8.5"
  },
  "orig_nbformat": 4
 },
 "nbformat": 4,
 "nbformat_minor": 2
}